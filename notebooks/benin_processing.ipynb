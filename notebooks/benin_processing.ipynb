{
 "metadata": {
  "name": "",
  "signature": "sha256:eced91e24c7fd3a0d3053b85d23f97be7724a1455e19994f4563fef9757804ee"
 },
 "nbformat": 3,
 "nbformat_minor": 0,
 "worksheets": [
  {
   "cells": [
    {
     "cell_type": "markdown",
     "metadata": {},
     "source": [
      "#Benin Data Processing"
     ]
    },
    {
     "cell_type": "code",
     "collapsed": false,
     "input": [
      "import country_window_processor as cwp\n",
      "from time import sleep"
     ],
     "language": "python",
     "metadata": {},
     "outputs": [],
     "prompt_number": 1
    },
    {
     "cell_type": "markdown",
     "metadata": {},
     "source": [
      "###Import data"
     ]
    },
    {
     "cell_type": "markdown",
     "metadata": {},
     "source": [
      "Select the form of data to be imported:"
     ]
    },
    {
     "cell_type": "code",
     "collapsed": false,
     "input": [
      "DATA = 'aet_pet'"
     ],
     "language": "python",
     "metadata": {},
     "outputs": [],
     "prompt_number": 2
    },
    {
     "cell_type": "markdown",
     "metadata": {},
     "source": [
      "Add path to the data location:"
     ]
    },
    {
     "cell_type": "code",
     "collapsed": false,
     "input": [
      "IMPORT_PATH = '/Users/samuelalbanie/aims_course/project_one/Geography_Data/' + DATA + '/uncompressed/'"
     ],
     "language": "python",
     "metadata": {},
     "outputs": [],
     "prompt_number": 3
    },
    {
     "cell_type": "markdown",
     "metadata": {},
     "source": [
      "Define a bounding box for Benin (in degrees of lat/lon):"
     ]
    },
    {
     "cell_type": "code",
     "collapsed": false,
     "input": [
      "BENIN_BBOX = {\n",
      "    'top_left_lat': 12.5,\n",
      "    'top_left_lon': 0.65,\n",
      "    'width': 3.25, \n",
      "    'height': 6.4, \n",
      "}"
     ],
     "language": "python",
     "metadata": {},
     "outputs": [],
     "prompt_number": 4
    },
    {
     "cell_type": "markdown",
     "metadata": {},
     "source": [
      "Import the raw raster data:"
     ]
    },
    {
     "cell_type": "code",
     "collapsed": false,
     "input": [
      "data = cwp.import_rst_files(IMPORT_PATH)"
     ],
     "language": "python",
     "metadata": {},
     "outputs": [],
     "prompt_number": 5
    },
    {
     "cell_type": "code",
     "collapsed": false,
     "input": [
      "data"
     ],
     "language": "python",
     "metadata": {},
     "outputs": [
      {
       "metadata": {},
       "output_type": "pyout",
       "prompt_number": 6,
       "text": [
        "{'2007_12': <osgeo.gdal.Dataset; proxy of <Swig Object of type 'GDALDatasetShadow *' at 0x10c40d630> >,\n",
        " '2005_03': <osgeo.gdal.Dataset; proxy of <Swig Object of type 'GDALDatasetShadow *' at 0x10c36ffc0> >,\n",
        " '2005_05': <osgeo.gdal.Dataset; proxy of <Swig Object of type 'GDALDatasetShadow *' at 0x10c40d060> >,\n",
        " '2002_02': <osgeo.gdal.Dataset; proxy of <Swig Object of type 'GDALDatasetShadow *' at 0x10c36f8d0> >,\n",
        " '2013_10': <osgeo.gdal.Dataset; proxy of <Swig Object of type 'GDALDatasetShadow *' at 0x10c411390> >,\n",
        " '2013_09': <osgeo.gdal.Dataset; proxy of <Swig Object of type 'GDALDatasetShadow *' at 0x10c411360> >,\n",
        " '2006_05': <osgeo.gdal.Dataset; proxy of <Swig Object of type 'GDALDatasetShadow *' at 0x10c40d2a0> >,\n",
        " '2011_03': <osgeo.gdal.Dataset; proxy of <Swig Object of type 'GDALDatasetShadow *' at 0x10c40dd80> >,\n",
        " '2004_05': <osgeo.gdal.Dataset; proxy of <Swig Object of type 'GDALDatasetShadow *' at 0x10c36fde0> >,\n",
        " '2006_10': <osgeo.gdal.Dataset; proxy of <Swig Object of type 'GDALDatasetShadow *' at 0x10c40d390> >,\n",
        " '2007_07': <osgeo.gdal.Dataset; proxy of <Swig Object of type 'GDALDatasetShadow *' at 0x10c40d540> >,\n",
        " '2007_04': <osgeo.gdal.Dataset; proxy of <Swig Object of type 'GDALDatasetShadow *' at 0x10c40d4b0> >,\n",
        " '2000_06': <osgeo.gdal.Dataset; proxy of <Swig Object of type 'GDALDatasetShadow *' at 0x10c36f510> >,\n",
        " '2005_09': <osgeo.gdal.Dataset; proxy of <Swig Object of type 'GDALDatasetShadow *' at 0x10c40d120> >,\n",
        " '2004_06': <osgeo.gdal.Dataset; proxy of <Swig Object of type 'GDALDatasetShadow *' at 0x10c36fe10> >,\n",
        " '2010_08': <osgeo.gdal.Dataset; proxy of <Swig Object of type 'GDALDatasetShadow *' at 0x10c40dc30> >,\n",
        " '2013_11': <osgeo.gdal.Dataset; proxy of <Swig Object of type 'GDALDatasetShadow *' at 0x10c4113c0> >,\n",
        " '2002_12': <osgeo.gdal.Dataset; proxy of <Swig Object of type 'GDALDatasetShadow *' at 0x10c36fab0> >,\n",
        " '2001_12': <osgeo.gdal.Dataset; proxy of <Swig Object of type 'GDALDatasetShadow *' at 0x10c36f870> >,\n",
        " '2013_04': <osgeo.gdal.Dataset; proxy of <Swig Object of type 'GDALDatasetShadow *' at 0x10c411270> >,\n",
        " '2006_06': <osgeo.gdal.Dataset; proxy of <Swig Object of type 'GDALDatasetShadow *' at 0x10c40d2d0> >,\n",
        " '2007_06': <osgeo.gdal.Dataset; proxy of <Swig Object of type 'GDALDatasetShadow *' at 0x10c40d510> >,\n",
        " '2013_01': <osgeo.gdal.Dataset; proxy of <Swig Object of type 'GDALDatasetShadow *' at 0x10c4111e0> >,\n",
        " '2005_06': <osgeo.gdal.Dataset; proxy of <Swig Object of type 'GDALDatasetShadow *' at 0x10c40d090> >,\n",
        " '2007_08': <osgeo.gdal.Dataset; proxy of <Swig Object of type 'GDALDatasetShadow *' at 0x10c40d570> >,\n",
        " '2010_09': <osgeo.gdal.Dataset; proxy of <Swig Object of type 'GDALDatasetShadow *' at 0x10c40dc60> >,\n",
        " '2003_04': <osgeo.gdal.Dataset; proxy of <Swig Object of type 'GDALDatasetShadow *' at 0x10c36fb70> >,\n",
        " '2003_06': <osgeo.gdal.Dataset; proxy of <Swig Object of type 'GDALDatasetShadow *' at 0x10c36fbd0> >,\n",
        " '2000_12': <osgeo.gdal.Dataset; proxy of <Swig Object of type 'GDALDatasetShadow *' at 0x10c36f630> >,\n",
        " '2012_07': <osgeo.gdal.Dataset; proxy of <Swig Object of type 'GDALDatasetShadow *' at 0x10c4110c0> >,\n",
        " '2008_12': <osgeo.gdal.Dataset; proxy of <Swig Object of type 'GDALDatasetShadow *' at 0x10c40d870> >,\n",
        " '2010_04': <osgeo.gdal.Dataset; proxy of <Swig Object of type 'GDALDatasetShadow *' at 0x10c40db70> >,\n",
        " '2010_06': <osgeo.gdal.Dataset; proxy of <Swig Object of type 'GDALDatasetShadow *' at 0x10c40dbd0> >,\n",
        " '2003_02': <osgeo.gdal.Dataset; proxy of <Swig Object of type 'GDALDatasetShadow *' at 0x10c36fb10> >,\n",
        " '2007_01': <osgeo.gdal.Dataset; proxy of <Swig Object of type 'GDALDatasetShadow *' at 0x10c40d420> >,\n",
        " '2012_01': <osgeo.gdal.Dataset; proxy of <Swig Object of type 'GDALDatasetShadow *' at 0x10c40df60> >,\n",
        " '2002_08': <osgeo.gdal.Dataset; proxy of <Swig Object of type 'GDALDatasetShadow *' at 0x10c36f9f0> >,\n",
        " '2006_04': <osgeo.gdal.Dataset; proxy of <Swig Object of type 'GDALDatasetShadow *' at 0x10c40d270> >,\n",
        " '2003_03': <osgeo.gdal.Dataset; proxy of <Swig Object of type 'GDALDatasetShadow *' at 0x10c36fb40> >,\n",
        " '2009_03': <osgeo.gdal.Dataset; proxy of <Swig Object of type 'GDALDatasetShadow *' at 0x10c40d900> >,\n",
        " '2010_03': <osgeo.gdal.Dataset; proxy of <Swig Object of type 'GDALDatasetShadow *' at 0x10c40db40> >,\n",
        " '2010_12': <osgeo.gdal.Dataset; proxy of <Swig Object of type 'GDALDatasetShadow *' at 0x10c40dcf0> >,\n",
        " '2003_11': <osgeo.gdal.Dataset; proxy of <Swig Object of type 'GDALDatasetShadow *' at 0x10c36fcc0> >,\n",
        " '2000_04': <osgeo.gdal.Dataset; proxy of <Swig Object of type 'GDALDatasetShadow *' at 0x10931c870> >,\n",
        " '2011_06': <osgeo.gdal.Dataset; proxy of <Swig Object of type 'GDALDatasetShadow *' at 0x10c40de10> >,\n",
        " '2003_12': <osgeo.gdal.Dataset; proxy of <Swig Object of type 'GDALDatasetShadow *' at 0x10c36fcf0> >,\n",
        " '2007_11': <osgeo.gdal.Dataset; proxy of <Swig Object of type 'GDALDatasetShadow *' at 0x10c40d600> >,\n",
        " '2006_01': <osgeo.gdal.Dataset; proxy of <Swig Object of type 'GDALDatasetShadow *' at 0x10c40d1e0> >,\n",
        " '2000_10': <osgeo.gdal.Dataset; proxy of <Swig Object of type 'GDALDatasetShadow *' at 0x10c36f5d0> >,\n",
        " '2009_10': <osgeo.gdal.Dataset; proxy of <Swig Object of type 'GDALDatasetShadow *' at 0x10c40da50> >,\n",
        " '2011_10': <osgeo.gdal.Dataset; proxy of <Swig Object of type 'GDALDatasetShadow *' at 0x10c40ded0> >,\n",
        " '2012_03': <osgeo.gdal.Dataset; proxy of <Swig Object of type 'GDALDatasetShadow *' at 0x10c40dfc0> >,\n",
        " '2003_01': <osgeo.gdal.Dataset; proxy of <Swig Object of type 'GDALDatasetShadow *' at 0x10c36fae0> >,\n",
        " '2001_06': <osgeo.gdal.Dataset; proxy of <Swig Object of type 'GDALDatasetShadow *' at 0x10c36f750> >,\n",
        " '2009_01': <osgeo.gdal.Dataset; proxy of <Swig Object of type 'GDALDatasetShadow *' at 0x10c40d8a0> >,\n",
        " '2006_08': <osgeo.gdal.Dataset; proxy of <Swig Object of type 'GDALDatasetShadow *' at 0x10c40d330> >,\n",
        " '2006_02': <osgeo.gdal.Dataset; proxy of <Swig Object of type 'GDALDatasetShadow *' at 0x10c40d210> >,\n",
        " '2010_10': <osgeo.gdal.Dataset; proxy of <Swig Object of type 'GDALDatasetShadow *' at 0x10c40dc90> >,\n",
        " '2012_10': <osgeo.gdal.Dataset; proxy of <Swig Object of type 'GDALDatasetShadow *' at 0x10c411150> >,\n",
        " '2005_12': <osgeo.gdal.Dataset; proxy of <Swig Object of type 'GDALDatasetShadow *' at 0x10c40d1b0> >,\n",
        " '2000_07': <osgeo.gdal.Dataset; proxy of <Swig Object of type 'GDALDatasetShadow *' at 0x10c36f570> >,\n",
        " '2010_01': <osgeo.gdal.Dataset; proxy of <Swig Object of type 'GDALDatasetShadow *' at 0x10c40dae0> >,\n",
        " '2010_07': <osgeo.gdal.Dataset; proxy of <Swig Object of type 'GDALDatasetShadow *' at 0x10c40dc00> >,\n",
        " '2004_09': <osgeo.gdal.Dataset; proxy of <Swig Object of type 'GDALDatasetShadow *' at 0x10c36fea0> >,\n",
        " '2011_04': <osgeo.gdal.Dataset; proxy of <Swig Object of type 'GDALDatasetShadow *' at 0x10c40ddb0> >,\n",
        " '2011_09': <osgeo.gdal.Dataset; proxy of <Swig Object of type 'GDALDatasetShadow *' at 0x10c40dea0> >,\n",
        " '2004_11': <osgeo.gdal.Dataset; proxy of <Swig Object of type 'GDALDatasetShadow *' at 0x10c36ff00> >,\n",
        " '2008_06': <osgeo.gdal.Dataset; proxy of <Swig Object of type 'GDALDatasetShadow *' at 0x10c40d750> >,\n",
        " '2000_05': <osgeo.gdal.Dataset; proxy of <Swig Object of type 'GDALDatasetShadow *' at 0x10931c8a0> >,\n",
        " '2008_02': <osgeo.gdal.Dataset; proxy of <Swig Object of type 'GDALDatasetShadow *' at 0x10c40d690> >,\n",
        " '2006_12': <osgeo.gdal.Dataset; proxy of <Swig Object of type 'GDALDatasetShadow *' at 0x10c40d3f0> >,\n",
        " '2000_02': <osgeo.gdal.Dataset; proxy of <Swig Object of type 'GDALDatasetShadow *' at 0x10931c930> >,\n",
        " '2011_12': <osgeo.gdal.Dataset; proxy of <Swig Object of type 'GDALDatasetShadow *' at 0x10c40df30> >,\n",
        " '2000_09': <osgeo.gdal.Dataset; proxy of <Swig Object of type 'GDALDatasetShadow *' at 0x10c36f5a0> >,\n",
        " '2005_11': <osgeo.gdal.Dataset; proxy of <Swig Object of type 'GDALDatasetShadow *' at 0x10c40d180> >,\n",
        " '2007_09': <osgeo.gdal.Dataset; proxy of <Swig Object of type 'GDALDatasetShadow *' at 0x10c40d5a0> >,\n",
        " '2009_09': <osgeo.gdal.Dataset; proxy of <Swig Object of type 'GDALDatasetShadow *' at 0x10c40da20> >,\n",
        " '2012_05': <osgeo.gdal.Dataset; proxy of <Swig Object of type 'GDALDatasetShadow *' at 0x10c411060> >,\n",
        " '2006_09': <osgeo.gdal.Dataset; proxy of <Swig Object of type 'GDALDatasetShadow *' at 0x10c40d360> >,\n",
        " '2004_12': <osgeo.gdal.Dataset; proxy of <Swig Object of type 'GDALDatasetShadow *' at 0x10c36ff30> >,\n",
        " '2006_11': <osgeo.gdal.Dataset; proxy of <Swig Object of type 'GDALDatasetShadow *' at 0x10c40d3c0> >,\n",
        " '2013_07': <osgeo.gdal.Dataset; proxy of <Swig Object of type 'GDALDatasetShadow *' at 0x10c411300> >,\n",
        " '2001_04': <osgeo.gdal.Dataset; proxy of <Swig Object of type 'GDALDatasetShadow *' at 0x10c36f6f0> >,\n",
        " '2001_10': <osgeo.gdal.Dataset; proxy of <Swig Object of type 'GDALDatasetShadow *' at 0x10c36f810> >,\n",
        " '2009_08': <osgeo.gdal.Dataset; proxy of <Swig Object of type 'GDALDatasetShadow *' at 0x10c40d9f0> >,\n",
        " '2004_03': <osgeo.gdal.Dataset; proxy of <Swig Object of type 'GDALDatasetShadow *' at 0x10c36fd80> >,\n",
        " '2007_03': <osgeo.gdal.Dataset; proxy of <Swig Object of type 'GDALDatasetShadow *' at 0x10c40d480> >,\n",
        " '2011_11': <osgeo.gdal.Dataset; proxy of <Swig Object of type 'GDALDatasetShadow *' at 0x10c40df00> >,\n",
        " '2011_08': <osgeo.gdal.Dataset; proxy of <Swig Object of type 'GDALDatasetShadow *' at 0x10c40de70> >,\n",
        " '2003_09': <osgeo.gdal.Dataset; proxy of <Swig Object of type 'GDALDatasetShadow *' at 0x10c36fc60> >,\n",
        " '2001_09': <osgeo.gdal.Dataset; proxy of <Swig Object of type 'GDALDatasetShadow *' at 0x10c36f7e0> >,\n",
        " '2008_05': <osgeo.gdal.Dataset; proxy of <Swig Object of type 'GDALDatasetShadow *' at 0x10c40d720> >,\n",
        " '2012_09': <osgeo.gdal.Dataset; proxy of <Swig Object of type 'GDALDatasetShadow *' at 0x10c411120> >,\n",
        " '2002_07': <osgeo.gdal.Dataset; proxy of <Swig Object of type 'GDALDatasetShadow *' at 0x10c36f9c0> >,\n",
        " '2009_05': <osgeo.gdal.Dataset; proxy of <Swig Object of type 'GDALDatasetShadow *' at 0x10c40d960> >,\n",
        " '2004_04': <osgeo.gdal.Dataset; proxy of <Swig Object of type 'GDALDatasetShadow *' at 0x10c36fdb0> >,\n",
        " '2002_11': <osgeo.gdal.Dataset; proxy of <Swig Object of type 'GDALDatasetShadow *' at 0x10c36fa80> >,\n",
        " '2009_02': <osgeo.gdal.Dataset; proxy of <Swig Object of type 'GDALDatasetShadow *' at 0x10c40d8d0> >,\n",
        " '2012_12': <osgeo.gdal.Dataset; proxy of <Swig Object of type 'GDALDatasetShadow *' at 0x10c4111b0> >,\n",
        " '2013_12': <osgeo.gdal.Dataset; proxy of <Swig Object of type 'GDALDatasetShadow *' at 0x10c4113f0> >,\n",
        " '2002_03': <osgeo.gdal.Dataset; proxy of <Swig Object of type 'GDALDatasetShadow *' at 0x10c36f900> >,\n",
        " '2009_07': <osgeo.gdal.Dataset; proxy of <Swig Object of type 'GDALDatasetShadow *' at 0x10c40d9c0> >,\n",
        " '2005_07': <osgeo.gdal.Dataset; proxy of <Swig Object of type 'GDALDatasetShadow *' at 0x10c40d0c0> >,\n",
        " '2001_05': <osgeo.gdal.Dataset; proxy of <Swig Object of type 'GDALDatasetShadow *' at 0x10c36f720> >,\n",
        " '2010_02': <osgeo.gdal.Dataset; proxy of <Swig Object of type 'GDALDatasetShadow *' at 0x10c40db10> >,\n",
        " '2001_02': <osgeo.gdal.Dataset; proxy of <Swig Object of type 'GDALDatasetShadow *' at 0x10c36f690> >,\n",
        " '2005_10': <osgeo.gdal.Dataset; proxy of <Swig Object of type 'GDALDatasetShadow *' at 0x10c40d150> >,\n",
        " '2009_06': <osgeo.gdal.Dataset; proxy of <Swig Object of type 'GDALDatasetShadow *' at 0x10c40d990> >,\n",
        " '2013_08': <osgeo.gdal.Dataset; proxy of <Swig Object of type 'GDALDatasetShadow *' at 0x10c411330> >,\n",
        " '2006_07': <osgeo.gdal.Dataset; proxy of <Swig Object of type 'GDALDatasetShadow *' at 0x10c40d300> >,\n",
        " '2002_01': <osgeo.gdal.Dataset; proxy of <Swig Object of type 'GDALDatasetShadow *' at 0x10c36f8a0> >,\n",
        " '2008_01': <osgeo.gdal.Dataset; proxy of <Swig Object of type 'GDALDatasetShadow *' at 0x10c40d660> >,\n",
        " '2005_04': <osgeo.gdal.Dataset; proxy of <Swig Object of type 'GDALDatasetShadow *' at 0x10c40d030> >,\n",
        " '2012_11': <osgeo.gdal.Dataset; proxy of <Swig Object of type 'GDALDatasetShadow *' at 0x10c411180> >,\n",
        " '2013_06': <osgeo.gdal.Dataset; proxy of <Swig Object of type 'GDALDatasetShadow *' at 0x10c4112d0> >,\n",
        " '2007_05': <osgeo.gdal.Dataset; proxy of <Swig Object of type 'GDALDatasetShadow *' at 0x10c40d4e0> >,\n",
        " '2011_07': <osgeo.gdal.Dataset; proxy of <Swig Object of type 'GDALDatasetShadow *' at 0x10c40de40> >,\n",
        " '2011_02': <osgeo.gdal.Dataset; proxy of <Swig Object of type 'GDALDatasetShadow *' at 0x10c40dd50> >,\n",
        " '2004_08': <osgeo.gdal.Dataset; proxy of <Swig Object of type 'GDALDatasetShadow *' at 0x10c36fe70> >,\n",
        " '2001_03': <osgeo.gdal.Dataset; proxy of <Swig Object of type 'GDALDatasetShadow *' at 0x10c36f6c0> >,\n",
        " '2006_03': <osgeo.gdal.Dataset; proxy of <Swig Object of type 'GDALDatasetShadow *' at 0x10c40d240> >,\n",
        " '2013_02': <osgeo.gdal.Dataset; proxy of <Swig Object of type 'GDALDatasetShadow *' at 0x10c411210> >,\n",
        " '2008_08': <osgeo.gdal.Dataset; proxy of <Swig Object of type 'GDALDatasetShadow *' at 0x10c40d7b0> >,\n",
        " '2001_11': <osgeo.gdal.Dataset; proxy of <Swig Object of type 'GDALDatasetShadow *' at 0x10c36f840> >,\n",
        " '2002_04': <osgeo.gdal.Dataset; proxy of <Swig Object of type 'GDALDatasetShadow *' at 0x10c36f930> >,\n",
        " '2008_11': <osgeo.gdal.Dataset; proxy of <Swig Object of type 'GDALDatasetShadow *' at 0x10c40d840> >,\n",
        " '2004_02': <osgeo.gdal.Dataset; proxy of <Swig Object of type 'GDALDatasetShadow *' at 0x10c36fd50> >,\n",
        " '2004_01': <osgeo.gdal.Dataset; proxy of <Swig Object of type 'GDALDatasetShadow *' at 0x10c36fd20> >,\n",
        " '2010_11': <osgeo.gdal.Dataset; proxy of <Swig Object of type 'GDALDatasetShadow *' at 0x10c40dcc0> >,\n",
        " '2000_11': <osgeo.gdal.Dataset; proxy of <Swig Object of type 'GDALDatasetShadow *' at 0x10c36f600> >,\n",
        " '2000_03': <osgeo.gdal.Dataset; proxy of <Swig Object of type 'GDALDatasetShadow *' at 0x10931c840> >,\n",
        " '2002_05': <osgeo.gdal.Dataset; proxy of <Swig Object of type 'GDALDatasetShadow *' at 0x10c36f960> >,\n",
        " '2001_01': <osgeo.gdal.Dataset; proxy of <Swig Object of type 'GDALDatasetShadow *' at 0x10c36f660> >,\n",
        " '2005_08': <osgeo.gdal.Dataset; proxy of <Swig Object of type 'GDALDatasetShadow *' at 0x10c40d0f0> >,\n",
        " '2012_06': <osgeo.gdal.Dataset; proxy of <Swig Object of type 'GDALDatasetShadow *' at 0x10c411090> >,\n",
        " '2008_03': <osgeo.gdal.Dataset; proxy of <Swig Object of type 'GDALDatasetShadow *' at 0x10c40d6c0> >,\n",
        " '2011_01': <osgeo.gdal.Dataset; proxy of <Swig Object of type 'GDALDatasetShadow *' at 0x10c40dd20> >,\n",
        " '2008_09': <osgeo.gdal.Dataset; proxy of <Swig Object of type 'GDALDatasetShadow *' at 0x10c40d7e0> >,\n",
        " '2003_05': <osgeo.gdal.Dataset; proxy of <Swig Object of type 'GDALDatasetShadow *' at 0x10c36fba0> >,\n",
        " '2009_04': <osgeo.gdal.Dataset; proxy of <Swig Object of type 'GDALDatasetShadow *' at 0x10c40d930> >,\n",
        " '2004_10': <osgeo.gdal.Dataset; proxy of <Swig Object of type 'GDALDatasetShadow *' at 0x10c36fed0> >,\n",
        " '2012_02': <osgeo.gdal.Dataset; proxy of <Swig Object of type 'GDALDatasetShadow *' at 0x10c40df90> >,\n",
        " '2001_08': <osgeo.gdal.Dataset; proxy of <Swig Object of type 'GDALDatasetShadow *' at 0x10c36f7b0> >,\n",
        " '2008_04': <osgeo.gdal.Dataset; proxy of <Swig Object of type 'GDALDatasetShadow *' at 0x10c40d6f0> >,\n",
        " '2003_08': <osgeo.gdal.Dataset; proxy of <Swig Object of type 'GDALDatasetShadow *' at 0x10c36fc30> >,\n",
        " '2012_04': <osgeo.gdal.Dataset; proxy of <Swig Object of type 'GDALDatasetShadow *' at 0x10c411030> >,\n",
        " '2001_07': <osgeo.gdal.Dataset; proxy of <Swig Object of type 'GDALDatasetShadow *' at 0x10c36f780> >,\n",
        " '2002_10': <osgeo.gdal.Dataset; proxy of <Swig Object of type 'GDALDatasetShadow *' at 0x10c36fa50> >,\n",
        " '2005_02': <osgeo.gdal.Dataset; proxy of <Swig Object of type 'GDALDatasetShadow *' at 0x10c36ff90> >,\n",
        " '2010_05': <osgeo.gdal.Dataset; proxy of <Swig Object of type 'GDALDatasetShadow *' at 0x10c40dba0> >,\n",
        " '2013_03': <osgeo.gdal.Dataset; proxy of <Swig Object of type 'GDALDatasetShadow *' at 0x10c411240> >,\n",
        " '2013_05': <osgeo.gdal.Dataset; proxy of <Swig Object of type 'GDALDatasetShadow *' at 0x10c4112a0> >,\n",
        " '2007_10': <osgeo.gdal.Dataset; proxy of <Swig Object of type 'GDALDatasetShadow *' at 0x10c40d5d0> >,\n",
        " '2003_10': <osgeo.gdal.Dataset; proxy of <Swig Object of type 'GDALDatasetShadow *' at 0x10c36fc90> >,\n",
        " '2003_07': <osgeo.gdal.Dataset; proxy of <Swig Object of type 'GDALDatasetShadow *' at 0x10c36fc00> >,\n",
        " '2009_12': <osgeo.gdal.Dataset; proxy of <Swig Object of type 'GDALDatasetShadow *' at 0x10c40dab0> >,\n",
        " '2005_01': <osgeo.gdal.Dataset; proxy of <Swig Object of type 'GDALDatasetShadow *' at 0x10c36ff60> >,\n",
        " '2000_08': <osgeo.gdal.Dataset; proxy of <Swig Object of type 'GDALDatasetShadow *' at 0x10c36f540> >,\n",
        " '2002_06': <osgeo.gdal.Dataset; proxy of <Swig Object of type 'GDALDatasetShadow *' at 0x10c36f990> >,\n",
        " '2008_07': <osgeo.gdal.Dataset; proxy of <Swig Object of type 'GDALDatasetShadow *' at 0x10c40d780> >,\n",
        " '2012_08': <osgeo.gdal.Dataset; proxy of <Swig Object of type 'GDALDatasetShadow *' at 0x10c4110f0> >,\n",
        " '2007_02': <osgeo.gdal.Dataset; proxy of <Swig Object of type 'GDALDatasetShadow *' at 0x10c40d450> >,\n",
        " '2011_05': <osgeo.gdal.Dataset; proxy of <Swig Object of type 'GDALDatasetShadow *' at 0x10c40dde0> >,\n",
        " '2000_01': <osgeo.gdal.Dataset; proxy of <Swig Object of type 'GDALDatasetShadow *' at 0x10931c8d0> >,\n",
        " '2002_09': <osgeo.gdal.Dataset; proxy of <Swig Object of type 'GDALDatasetShadow *' at 0x10c36fa20> >,\n",
        " '2009_11': <osgeo.gdal.Dataset; proxy of <Swig Object of type 'GDALDatasetShadow *' at 0x10c40da80> >,\n",
        " '2008_10': <osgeo.gdal.Dataset; proxy of <Swig Object of type 'GDALDatasetShadow *' at 0x10c40d810> >,\n",
        " '2004_07': <osgeo.gdal.Dataset; proxy of <Swig Object of type 'GDALDatasetShadow *' at 0x10c36fe40> >}"
       ]
      }
     ],
     "prompt_number": 6
    },
    {
     "cell_type": "markdown",
     "metadata": {},
     "source": [
      "Find the coordinate transform defined in this data:"
     ]
    },
    {
     "cell_type": "code",
     "collapsed": false,
     "input": [
      "geotransform = cwp.get_geotransform(data)"
     ],
     "language": "python",
     "metadata": {},
     "outputs": [],
     "prompt_number": 7
    },
    {
     "cell_type": "markdown",
     "metadata": {},
     "source": [
      "Translate the bounding box from degrees into pixel locations:"
     ]
    },
    {
     "cell_type": "code",
     "collapsed": false,
     "input": [
      "bbox = cwp.pixel_coordinates(geotransform, BENIN_BBOX)"
     ],
     "language": "python",
     "metadata": {},
     "outputs": [],
     "prompt_number": 8
    },
    {
     "cell_type": "markdown",
     "metadata": {},
     "source": [
      "###Export data"
     ]
    },
    {
     "cell_type": "markdown",
     "metadata": {},
     "source": [
      "Add the path to output processed data:"
     ]
    },
    {
     "cell_type": "code",
     "collapsed": false,
     "input": [
      "EXPORT_PATH = '/Users/samuelalbanie/aims_course/project_one/Geography_Data/' + DATA + '/benin/'"
     ],
     "language": "python",
     "metadata": {},
     "outputs": [],
     "prompt_number": 9
    },
    {
     "cell_type": "markdown",
     "metadata": {},
     "source": [
      "Reading in the arrays of pixel values can take some time -  the pause steps help to prevent crashes:"
     ]
    },
    {
     "cell_type": "code",
     "collapsed": false,
     "input": [
      "benin_data = {}\n",
      "for key in data.keys():\n",
      "    band = data[key].GetRasterBand(1)\n",
      "    benin_data[key] = band.ReadAsArray(bbox['x'], bbox['y'], bbox['width'], bbox['height'])\n",
      "    sleep(9.5)"
     ],
     "language": "python",
     "metadata": {},
     "outputs": [],
     "prompt_number": 10
    },
    {
     "cell_type": "markdown",
     "metadata": {},
     "source": [
      "Finally, we export the data in numpy format:"
     ]
    },
    {
     "cell_type": "code",
     "collapsed": false,
     "input": [
      "cwp.export_numpy(benin_data, EXPORT_PATH)"
     ],
     "language": "python",
     "metadata": {},
     "outputs": [],
     "prompt_number": 11
    }
   ],
   "metadata": {}
  }
 ]
}