{
 "metadata": {
  "name": "",
  "signature": "sha256:aba33edd510defeddabfefc996e59e86c94ea69e82bf0ce7b36c7c8b2495a26a"
 },
 "nbformat": 3,
 "nbformat_minor": 0,
 "worksheets": [
  {
   "cells": [
    {
     "cell_type": "markdown",
     "metadata": {},
     "source": [
      "#Benin Data Processing"
     ]
    },
    {
     "cell_type": "code",
     "collapsed": false,
     "input": [
      "import country_window_processor as cwp\n",
      "from time import sleep"
     ],
     "language": "python",
     "metadata": {},
     "outputs": [],
     "prompt_number": 1
    },
    {
     "cell_type": "markdown",
     "metadata": {},
     "source": [
      "###Import data"
     ]
    },
    {
     "cell_type": "markdown",
     "metadata": {},
     "source": [
      "Select the form of data to be imported:"
     ]
    },
    {
     "cell_type": "code",
     "collapsed": false,
     "input": [
      "DATA = 'aet_pet'"
     ],
     "language": "python",
     "metadata": {},
     "outputs": [],
     "prompt_number": 2
    },
    {
     "cell_type": "markdown",
     "metadata": {},
     "source": [
      "Add path to the data location:"
     ]
    },
    {
     "cell_type": "code",
     "collapsed": false,
     "input": [
      "IMPORT_PATH = '/Users/samuelalbanie/aims_course/project_one/Geography_Data/' + DATA + '/uncompressed/'"
     ],
     "language": "python",
     "metadata": {},
     "outputs": [],
     "prompt_number": 3
    },
    {
     "cell_type": "markdown",
     "metadata": {},
     "source": [
      "Define a bounding box for Benin (in degrees of lat/lon):"
     ]
    },
    {
     "cell_type": "code",
     "collapsed": false,
     "input": [
      "BENIN_BBOX = {\n",
      "    'top_left_lat': 12.5,\n",
      "    'top_left_lon': 0.65,\n",
      "    'width': 3.25, \n",
      "    'height': 6.4, \n",
      "}"
     ],
     "language": "python",
     "metadata": {},
     "outputs": [],
     "prompt_number": 4
    },
    {
     "cell_type": "markdown",
     "metadata": {},
     "source": [
      "Import the raw raster data:"
     ]
    },
    {
     "cell_type": "code",
     "collapsed": false,
     "input": [
      "data = cwp.import_rst_files(IMPORT_PATH)"
     ],
     "language": "python",
     "metadata": {},
     "outputs": [],
     "prompt_number": 5
    },
    {
     "cell_type": "markdown",
     "metadata": {},
     "source": [
      "Find the coordinate transform defined in this data:"
     ]
    },
    {
     "cell_type": "code",
     "collapsed": false,
     "input": [
      "geotransform = cwp.get_geotransform(data)"
     ],
     "language": "python",
     "metadata": {},
     "outputs": [],
     "prompt_number": 7
    },
    {
     "cell_type": "markdown",
     "metadata": {},
     "source": [
      "Translate the bounding box from degrees into pixel locations:"
     ]
    },
    {
     "cell_type": "code",
     "collapsed": false,
     "input": [
      "bbox = cwp.pixel_coordinates(geotransform, BENIN_BBOX)"
     ],
     "language": "python",
     "metadata": {},
     "outputs": [],
     "prompt_number": 8
    },
    {
     "cell_type": "markdown",
     "metadata": {},
     "source": [
      "###Export data"
     ]
    },
    {
     "cell_type": "markdown",
     "metadata": {},
     "source": [
      "Add the path to output processed data:"
     ]
    },
    {
     "cell_type": "code",
     "collapsed": false,
     "input": [
      "EXPORT_PATH = '/Users/samuelalbanie/aims_course/project_one/Geography_Data/' + DATA + '/benin/'"
     ],
     "language": "python",
     "metadata": {},
     "outputs": [],
     "prompt_number": 9
    },
    {
     "cell_type": "markdown",
     "metadata": {},
     "source": [
      "Reading in the arrays of pixel values can take some time -  the pause steps help to prevent crashes:"
     ]
    },
    {
     "cell_type": "code",
     "collapsed": false,
     "input": [
      "benin_data = {}\n",
      "for key in data.keys():\n",
      "    band = data[key].GetRasterBand(1)\n",
      "    benin_data[key] = band.ReadAsArray(bbox['x'], bbox['y'], bbox['width'], bbox['height'])\n",
      "    sleep(9.5)"
     ],
     "language": "python",
     "metadata": {},
     "outputs": [],
     "prompt_number": 10
    },
    {
     "cell_type": "markdown",
     "metadata": {},
     "source": [
      "Finally, we export the data in numpy format:"
     ]
    },
    {
     "cell_type": "code",
     "collapsed": false,
     "input": [
      "cwp.export_numpy(benin_data, EXPORT_PATH)"
     ],
     "language": "python",
     "metadata": {},
     "outputs": [],
     "prompt_number": 11
    }
   ],
   "metadata": {}
  }
 ]
}